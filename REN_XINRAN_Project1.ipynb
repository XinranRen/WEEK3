{
 "cells": [
  {
   "cell_type": "markdown",
   "metadata": {},
   "source": [
    "# introduction and background：\n",
    "PASSNYC is an organization that worked for educational institutions of NYC. PASSNYC identify students within New York City’s under-performing school districts by data and aims to help under-performing areas. what I’m trying to do in this project is to help PASSNYC determine what kind of schools need their services the most. \n"
   ]
  },
  {
   "cell_type": "code",
   "execution_count": 126,
   "metadata": {
    "scrolled": true
   },
   "outputs": [
    {
     "name": "stdout",
     "output_type": "stream",
     "text": [
      "Requirement already satisfied: qeds in /Users/renxinran/opt/anaconda3/lib/python3.8/site-packages (0.6.2)\n",
      "Requirement already satisfied: pandas in /Users/renxinran/opt/anaconda3/lib/python3.8/site-packages (from qeds) (1.0.5)\n",
      "Requirement already satisfied: matplotlib in /Users/renxinran/opt/anaconda3/lib/python3.8/site-packages (from qeds) (3.2.2)\n",
      "Requirement already satisfied: pyarrow in /Users/renxinran/opt/anaconda3/lib/python3.8/site-packages (from qeds) (1.0.1)\n",
      "Requirement already satisfied: scikit-learn in /Users/renxinran/opt/anaconda3/lib/python3.8/site-packages (from qeds) (0.23.1)\n",
      "Requirement already satisfied: scipy in /Users/renxinran/opt/anaconda3/lib/python3.8/site-packages (from qeds) (1.5.0)\n",
      "Requirement already satisfied: statsmodels in /Users/renxinran/opt/anaconda3/lib/python3.8/site-packages (from qeds) (0.11.1)\n",
      "Requirement already satisfied: numpy in /Users/renxinran/opt/anaconda3/lib/python3.8/site-packages (from qeds) (1.18.5)\n",
      "Requirement already satisfied: quantecon in /Users/renxinran/opt/anaconda3/lib/python3.8/site-packages (from qeds) (0.4.8)\n",
      "Requirement already satisfied: seaborn in /Users/renxinran/opt/anaconda3/lib/python3.8/site-packages (from qeds) (0.10.1)\n",
      "Requirement already satisfied: quandl in /Users/renxinran/opt/anaconda3/lib/python3.8/site-packages (from qeds) (3.5.2)\n",
      "Requirement already satisfied: plotly in /Users/renxinran/opt/anaconda3/lib/python3.8/site-packages (from qeds) (4.11.0)\n",
      "Requirement already satisfied: openpyxl in /Users/renxinran/opt/anaconda3/lib/python3.8/site-packages (from qeds) (3.0.4)\n",
      "Requirement already satisfied: requests in /Users/renxinran/opt/anaconda3/lib/python3.8/site-packages (from qeds) (2.24.0)\n",
      "Requirement already satisfied: pandas-datareader in /Users/renxinran/opt/anaconda3/lib/python3.8/site-packages (from qeds) (0.9.0)\n",
      "Requirement already satisfied: pytz>=2017.2 in /Users/renxinran/opt/anaconda3/lib/python3.8/site-packages (from pandas->qeds) (2020.1)\n",
      "Requirement already satisfied: python-dateutil>=2.6.1 in /Users/renxinran/opt/anaconda3/lib/python3.8/site-packages (from pandas->qeds) (2.8.1)\n",
      "Requirement already satisfied: pyparsing!=2.0.4,!=2.1.2,!=2.1.6,>=2.0.1 in /Users/renxinran/opt/anaconda3/lib/python3.8/site-packages (from matplotlib->qeds) (2.4.7)\n",
      "Requirement already satisfied: cycler>=0.10 in /Users/renxinran/opt/anaconda3/lib/python3.8/site-packages (from matplotlib->qeds) (0.10.0)\n",
      "Requirement already satisfied: kiwisolver>=1.0.1 in /Users/renxinran/opt/anaconda3/lib/python3.8/site-packages (from matplotlib->qeds) (1.2.0)\n",
      "Requirement already satisfied: joblib>=0.11 in /Users/renxinran/opt/anaconda3/lib/python3.8/site-packages (from scikit-learn->qeds) (0.16.0)\n",
      "Requirement already satisfied: threadpoolctl>=2.0.0 in /Users/renxinran/opt/anaconda3/lib/python3.8/site-packages (from scikit-learn->qeds) (2.1.0)\n",
      "Requirement already satisfied: patsy>=0.5 in /Users/renxinran/opt/anaconda3/lib/python3.8/site-packages (from statsmodels->qeds) (0.5.1)\n",
      "Requirement already satisfied: sympy in /Users/renxinran/opt/anaconda3/lib/python3.8/site-packages (from quantecon->qeds) (1.6.1)\n",
      "Requirement already satisfied: numba>=0.38 in /Users/renxinran/opt/anaconda3/lib/python3.8/site-packages (from quantecon->qeds) (0.50.1)\n",
      "Requirement already satisfied: more-itertools in /Users/renxinran/opt/anaconda3/lib/python3.8/site-packages (from quandl->qeds) (8.4.0)\n",
      "Requirement already satisfied: inflection>=0.3.1 in /Users/renxinran/opt/anaconda3/lib/python3.8/site-packages (from quandl->qeds) (0.5.1)\n",
      "Requirement already satisfied: six in /Users/renxinran/opt/anaconda3/lib/python3.8/site-packages (from quandl->qeds) (1.15.0)\n",
      "Requirement already satisfied: retrying>=1.3.3 in /Users/renxinran/opt/anaconda3/lib/python3.8/site-packages (from plotly->qeds) (1.3.3)\n",
      "Requirement already satisfied: jdcal in /Users/renxinran/opt/anaconda3/lib/python3.8/site-packages (from openpyxl->qeds) (1.4.1)\n",
      "Requirement already satisfied: et-xmlfile in /Users/renxinran/opt/anaconda3/lib/python3.8/site-packages (from openpyxl->qeds) (1.0.1)\n",
      "Requirement already satisfied: chardet<4,>=3.0.2 in /Users/renxinran/opt/anaconda3/lib/python3.8/site-packages (from requests->qeds) (3.0.4)\n",
      "Requirement already satisfied: urllib3!=1.25.0,!=1.25.1,<1.26,>=1.21.1 in /Users/renxinran/opt/anaconda3/lib/python3.8/site-packages (from requests->qeds) (1.25.9)\n",
      "Requirement already satisfied: idna<3,>=2.5 in /Users/renxinran/opt/anaconda3/lib/python3.8/site-packages (from requests->qeds) (2.10)\n",
      "Requirement already satisfied: certifi>=2017.4.17 in /Users/renxinran/opt/anaconda3/lib/python3.8/site-packages (from requests->qeds) (2020.6.20)\n",
      "Requirement already satisfied: lxml in /Users/renxinran/opt/anaconda3/lib/python3.8/site-packages (from pandas-datareader->qeds) (4.5.2)\n",
      "Requirement already satisfied: mpmath>=0.19 in /Users/renxinran/opt/anaconda3/lib/python3.8/site-packages (from sympy->quantecon->qeds) (1.1.0)\n",
      "Requirement already satisfied: llvmlite<0.34,>=0.33.0.dev0 in /Users/renxinran/opt/anaconda3/lib/python3.8/site-packages (from numba>=0.38->quantecon->qeds) (0.33.0+1.g022ab0f)\n",
      "Requirement already satisfied: setuptools in /Users/renxinran/opt/anaconda3/lib/python3.8/site-packages (from numba>=0.38->quantecon->qeds) (49.2.0.post20200714)\n"
     ]
    }
   ],
   "source": [
    "! pip install qeds"
   ]
  },
  {
   "cell_type": "code",
   "execution_count": 127,
   "metadata": {},
   "outputs": [],
   "source": [
    "import pandas as pd\n",
    "import numpy as np\n",
    "import matplotlib.pyplot as plt\n",
    "import matplotlib as matplot\n",
    "import seaborn as sns\n",
    "%matplotlib inline"
   ]
  },
  {
   "cell_type": "code",
   "execution_count": 128,
   "metadata": {
    "scrolled": false
   },
   "outputs": [
    {
     "name": "stdout",
     "output_type": "stream",
     "text": [
      "<class 'pandas.core.frame.DataFrame'>\n",
      "RangeIndex: 1272 entries, 0 to 1271\n",
      "Columns: 161 entries, Adjusted Grade to Grade 8 Math 4s - Economically Disadvantaged\n",
      "dtypes: float64(5), int64(123), object(33)\n",
      "memory usage: 1.6+ MB\n"
     ]
    },
    {
     "data": {
      "text/plain": [
       "<bound method DataFrame.info of         DBN                            School name  Year of SHST  Grade level  \\\n",
       "0    05M046                 P.S. 046 Arthur Tappan          2013            8   \n",
       "1    05M046                 P.S. 046 Arthur Tappan          2014            8   \n",
       "2    05M046                 P.S. 046 Arthur Tappan          2015            8   \n",
       "3    05M046                 P.S. 046 Arthur Tappan          2016            8   \n",
       "4    05M123               P.S. 123 Mahalia Jackson          2013            8   \n",
       "..      ...                                    ...           ...          ...   \n",
       "135  84M709  Harlem Village Academy Charter School          2016            9   \n",
       "136  84M726  KIPP STAR College Prep Charter School          2013            8   \n",
       "137  84M726  KIPP STAR College Prep Charter School          2014            8   \n",
       "138  84M726  KIPP STAR College Prep Charter School          2015            8   \n",
       "139  84M726  KIPP STAR College Prep Charter School          2016            8   \n",
       "\n",
       "     Enrollment on 10/31  Number of students who registered for the SHSAT  \\\n",
       "0                     91                                               31   \n",
       "1                     95                                               26   \n",
       "2                     73                                               21   \n",
       "3                     56                                               20   \n",
       "4                     62                                               31   \n",
       "..                   ...                                              ...   \n",
       "135                   42                                                1   \n",
       "136                   75                                               74   \n",
       "137                   71                                               74   \n",
       "138                   84                                               84   \n",
       "139                   62                                               60   \n",
       "\n",
       "     Number of students who took the SHSAT  \n",
       "0                                       14  \n",
       "1                                        7  \n",
       "2                                       10  \n",
       "3                                        8  \n",
       "4                                       14  \n",
       "..                                     ...  \n",
       "135                                      1  \n",
       "136                                     29  \n",
       "137                                     19  \n",
       "138                                     29  \n",
       "139                                     19  \n",
       "\n",
       "[140 rows x 7 columns]>"
      ]
     },
     "execution_count": 128,
     "metadata": {},
     "output_type": "execute_result"
    }
   ],
   "source": [
    "mydata = pd.read_csv(\"2016 School Explorer.csv\")\n",
    "shsat = pd.read_csv(\"D5 SHSAT Registrations and Testers.csv\")\n",
    "mydata.info()\n",
    "shsat.info"
   ]
  },
  {
   "cell_type": "code",
   "execution_count": 129,
   "metadata": {},
   "outputs": [
    {
     "data": {
      "text/plain": [
       "Adjusted Grade                                  object\n",
       "New?                                            object\n",
       "Other Location Code in LCGMS                    object\n",
       "School Name                                     object\n",
       "SED Code                                         int64\n",
       "                                                 ...  \n",
       "Grade 8 Math 4s - Asian or Pacific Islander      int64\n",
       "Grade 8 Math 4s - White                          int64\n",
       "Grade 8 Math 4s - Multiracial                    int64\n",
       "Grade 8 Math 4s - Limited English Proficient     int64\n",
       "Grade 8 Math 4s - Economically Disadvantaged     int64\n",
       "Length: 161, dtype: object"
      ]
     },
     "execution_count": 129,
     "metadata": {},
     "output_type": "execute_result"
    }
   ],
   "source": [
    "mydata.dtypes"
   ]
  },
  {
   "cell_type": "code",
   "execution_count": 130,
   "metadata": {},
   "outputs": [
    {
     "data": {
      "text/plain": [
       "DBN                                                object\n",
       "School name                                        object\n",
       "Year of SHST                                        int64\n",
       "Grade level                                         int64\n",
       "Enrollment on 10/31                                 int64\n",
       "Number of students who registered for the SHSAT     int64\n",
       "Number of students who took the SHSAT               int64\n",
       "dtype: object"
      ]
     },
     "execution_count": 130,
     "metadata": {},
     "output_type": "execute_result"
    }
   ],
   "source": [
    "shsat.dtypes"
   ]
  },
  {
   "cell_type": "code",
   "execution_count": 131,
   "metadata": {},
   "outputs": [],
   "source": [
    "# I have to change some percentage to float\n",
    "def p2f(x):\n",
    "    return float(x.strip('%'))/100\n",
    "\n",
    "mydata['Percent of Students Chronically Absent']=mydata['Percent of Students Chronically Absent'].astype(str).apply(p2f)\n",
    "mydata['Rigorous Instruction %'] = mydata['Rigorous Instruction %'].astype(str).apply(p2f)\n",
    "mydata['Collaborative Teachers %'] = mydata['Collaborative Teachers %'].astype(str).apply(p2f)\n",
    "mydata['Supportive Environment %'] = mydata['Supportive Environment %'].astype(str).apply(p2f)\n",
    "mydata['Effective School Leadership %'] = mydata['Effective School Leadership %'].astype(str).apply(p2f)\n",
    "mydata['Strong Family-Community Ties %'] = mydata['Strong Family-Community Ties %'].astype(str).apply(p2f)\n",
    "mydata['Trust %'] = mydata['Trust %'].astype(str).apply(p2f)\n",
    "mydata['Student Attendance Rate'] = mydata['Student Attendance Rate'].astype(str).apply(p2f)"
   ]
  },
  {
   "cell_type": "code",
   "execution_count": 132,
   "metadata": {},
   "outputs": [],
   "source": [
    "mydata['School Income Estimate'] = mydata['School Income Estimate'].str.replace(',', '')\n",
    "mydata['School Income Estimate'] = mydata['School Income Estimate'].str.replace('$', '')\n",
    "mydata['School Income Estimate'] = mydata['School Income Estimate'].str.replace(' ', '')\n",
    "mydata['School Income Estimate'] = mydata['School Income Estimate'].astype(float)"
   ]
  },
  {
   "cell_type": "code",
   "execution_count": 133,
   "metadata": {},
   "outputs": [],
   "source": [
    "mydata['School Income Estimate'] = mydata['School Income Estimate'].fillna(0)\n",
    "mydata['Economic Need Index'] = mydata['Economic Need Index'].fillna(0)"
   ]
  },
  {
   "cell_type": "code",
   "execution_count": 134,
   "metadata": {},
   "outputs": [],
   "source": [
    "mydata['Percent Asian'] = mydata['Percent Asian'].apply(p2f)\n",
    "mydata['Percent Black'] = mydata['Percent Black'].apply(p2f)\n",
    "mydata['Percent Hispanic'] = mydata['Percent Hispanic'].apply(p2f)\n",
    "mydata['Percent White'] = mydata['Percent White'].apply(p2f)\n",
    "mydata['Percent Black / Hispanic'] = mydata['Percent Black / Hispanic'].apply(p2f)"
   ]
  },
  {
   "cell_type": "markdown",
   "metadata": {},
   "source": [
    "I’m considering if the race would make the difference on scores. "
   ]
  },
  {
   "cell_type": "code",
   "execution_count": 135,
   "metadata": {},
   "outputs": [
    {
     "data": {
      "text/plain": [
       "array([[<matplotlib.axes._subplots.AxesSubplot object at 0x7f94073b8a60>]],\n",
       "      dtype=object)"
      ]
     },
     "execution_count": 135,
     "metadata": {},
     "output_type": "execute_result"
    },
    {
     "data": {
      "image/png": "[encoded data removed]",
      "text/plain": [
       "<Figure size 432x288 with 1 Axes>"
      ]
     },
     "metadata": {
      "needs_background": "light"
     },
     "output_type": "display_data"
    }
   ],
   "source": [
    "mydata.hist(column = \"Percent Black / Hispanic\")"
   ]
  },
  {
   "cell_type": "code",
   "execution_count": 136,
   "metadata": {},
   "outputs": [
    {
     "data": {
      "text/plain": [
       "array([[<matplotlib.axes._subplots.AxesSubplot object at 0x7f94076d9760>]],\n",
       "      dtype=object)"
      ]
     },
     "execution_count": 136,
     "metadata": {},
     "output_type": "execute_result"
    },
    {
     "data": {
      "image/png": "[encoded data removed]",
      "text/plain": [
       "<Figure size 432x288 with 1 Axes>"
      ]
     },
     "metadata": {
      "needs_background": "light"
     },
     "output_type": "display_data"
    }
   ],
   "source": [
    "mydata.hist(column = \"Percent Asian\")"
   ]
  },
  {
   "cell_type": "code",
   "execution_count": 137,
   "metadata": {},
   "outputs": [
    {
     "data": {
      "text/plain": [
       "array([[<matplotlib.axes._subplots.AxesSubplot object at 0x7f94079a8ac0>]],\n",
       "      dtype=object)"
      ]
     },
     "execution_count": 137,
     "metadata": {},
     "output_type": "execute_result"
    },
    {
     "data": {
      "image/png": "[encoded data removed]",
      "text/plain": [
       "<Figure size 432x288 with 1 Axes>"
      ]
     },
     "metadata": {
      "needs_background": "light"
     },
     "output_type": "display_data"
    }
   ],
   "source": [
    "mydata.hist(column = \"Percent White\")"
   ]
  },
  {
   "cell_type": "code",
   "execution_count": 138,
   "metadata": {},
   "outputs": [
    {
     "data": {
      "text/plain": [
       "Average ELA Proficiency     2.348459\n",
       "Average Math Proficiency    2.434961\n",
       "dtype: float64"
      ]
     },
     "execution_count": 138,
     "metadata": {},
     "output_type": "execute_result"
    }
   ],
   "source": [
    "mydata[mydata['Percent Black / Hispanic'] >= .75][['Average ELA Proficiency','Average Math Proficiency']].mean()"
   ]
  },
  {
   "cell_type": "code",
   "execution_count": 139,
   "metadata": {
    "scrolled": true
   },
   "outputs": [
    {
     "data": {
      "text/plain": [
       "Average ELA Proficiency     3.006429\n",
       "Average Math Proficiency    3.196071\n",
       "dtype: float64"
      ]
     },
     "execution_count": 139,
     "metadata": {},
     "output_type": "execute_result"
    }
   ],
   "source": [
    "mydata[mydata['Percent White'] >= .75][['Average ELA Proficiency','Average Math Proficiency']].mean()"
   ]
  },
  {
   "cell_type": "code",
   "execution_count": 140,
   "metadata": {
    "scrolled": true
   },
   "outputs": [
    {
     "data": {
      "text/plain": [
       "Average ELA Proficiency     2.803846\n",
       "Average Math Proficiency    3.366923\n",
       "dtype: float64"
      ]
     },
     "execution_count": 140,
     "metadata": {},
     "output_type": "execute_result"
    }
   ],
   "source": [
    "mydata[mydata['Percent Asian'] >= .75][['Average ELA Proficiency','Average Math Proficiency']].mean()"
   ]
  },
  {
   "cell_type": "code",
   "execution_count": 141,
   "metadata": {},
   "outputs": [
    {
     "data": {
      "text/plain": [
       "Text(0, 0.5, 'Frequency Count')"
      ]
     },
     "execution_count": 141,
     "metadata": {},
     "output_type": "execute_result"
    },
    {
     "data": {
      "image/png": "[encoded data removed]",
      "text/plain": [
       "<Figure size 1080x288 with 1 Axes>"
      ]
     },
     "metadata": {
      "needs_background": "light"
     },
     "output_type": "display_data"
    }
   ],
   "source": [
    "mydata['Black_Hispanic_Dominant'] = mydata['Percent Black / Hispanic'] >= .75\n",
    "mydata['White_Dominant'] = mydata['Percent White'] >= .75\n",
    "mydata['Asian_Dominant'] = mydata['Percent Asian'] >= .75\n",
    "fig = plt.figure(figsize=(15,4))\n",
    "ax=sns.kdeplot(mydata.loc[(mydata['Black_Hispanic_Dominant'] == True),'Average Math Proficiency'] , color='b',shade=True, label='Black/Hispanic Dominant School')\n",
    "ax=sns.kdeplot(mydata.loc[(mydata['White_Dominant'] == True),'Average Math Proficiency'] , color='r',shade=True, label='Asian/White Dominant School')\n",
    "ax=sns.kdeplot(mydata.loc[(mydata['Asian_Dominant'] == True),'Average Math Proficiency'] , color='g',shade=True, label='Asian/White Dominant School')\n",
    "plt.title('Average Math Proficiency Distribution by Race')\n",
    "plt.xlabel('Average Math Proficiency Score')\n",
    "plt.ylabel('Frequency Count')"
   ]
  },
  {
   "cell_type": "markdown",
   "metadata": {},
   "source": [
    "By the results, we can see white and asian race dominant school preform better on both ELA and Math. So I suppose that PASSNYC should focus more on the Black and Hispanic dominant school."
   ]
  },
  {
   "cell_type": "code",
   "execution_count": 142,
   "metadata": {
    "scrolled": false
   },
   "outputs": [
    {
     "data": {
      "text/html": [
       "<div>\n",
       "<style scoped>\n",
       "    .dataframe tbody tr th:only-of-type {\n",
       "        vertical-align: middle;\n",
       "    }\n",
       "\n",
       "    .dataframe tbody tr th {\n",
       "        vertical-align: top;\n",
       "    }\n",
       "\n",
       "    .dataframe thead th {\n",
       "        text-align: right;\n",
       "    }\n",
       "</style>\n",
       "<table border=\"1\" class=\"dataframe\">\n",
       "  <thead>\n",
       "    <tr style=\"text-align: right;\">\n",
       "      <th></th>\n",
       "      <th>SED Code</th>\n",
       "      <th>District</th>\n",
       "      <th>Latitude</th>\n",
       "      <th>Longitude</th>\n",
       "      <th>Zip</th>\n",
       "      <th>Economic Need Index</th>\n",
       "      <th>School Income Estimate</th>\n",
       "      <th>Percent Asian</th>\n",
       "      <th>Percent Black</th>\n",
       "      <th>Percent Hispanic</th>\n",
       "      <th>...</th>\n",
       "      <th>Grade 8 Math 4s - Black or African American</th>\n",
       "      <th>Grade 8 Math 4s - Hispanic or Latino</th>\n",
       "      <th>Grade 8 Math 4s - Asian or Pacific Islander</th>\n",
       "      <th>Grade 8 Math 4s - White</th>\n",
       "      <th>Grade 8 Math 4s - Multiracial</th>\n",
       "      <th>Grade 8 Math 4s - Limited English Proficient</th>\n",
       "      <th>Grade 8 Math 4s - Economically Disadvantaged</th>\n",
       "      <th>Black_Hispanic_Dominant</th>\n",
       "      <th>White_Dominant</th>\n",
       "      <th>Asian_Dominant</th>\n",
       "    </tr>\n",
       "  </thead>\n",
       "  <tbody>\n",
       "    <tr>\n",
       "      <th>SED Code</th>\n",
       "      <td>1.000000</td>\n",
       "      <td>0.951737</td>\n",
       "      <td>-0.636718</td>\n",
       "      <td>0.091508</td>\n",
       "      <td>0.742645</td>\n",
       "      <td>-0.243531</td>\n",
       "      <td>0.174739</td>\n",
       "      <td>0.285167</td>\n",
       "      <td>-0.004922</td>\n",
       "      <td>-0.323094</td>\n",
       "      <td>...</td>\n",
       "      <td>-0.033175</td>\n",
       "      <td>-0.009692</td>\n",
       "      <td>0.082033</td>\n",
       "      <td>0.055271</td>\n",
       "      <td>0.007877</td>\n",
       "      <td>0.051915</td>\n",
       "      <td>0.065238</td>\n",
       "      <td>-0.296013</td>\n",
       "      <td>0.188063</td>\n",
       "      <td>-0.006093</td>\n",
       "    </tr>\n",
       "    <tr>\n",
       "      <th>District</th>\n",
       "      <td>0.951737</td>\n",
       "      <td>1.000000</td>\n",
       "      <td>-0.617403</td>\n",
       "      <td>0.158269</td>\n",
       "      <td>0.747416</td>\n",
       "      <td>-0.213109</td>\n",
       "      <td>0.154909</td>\n",
       "      <td>0.288328</td>\n",
       "      <td>-0.004982</td>\n",
       "      <td>-0.297392</td>\n",
       "      <td>...</td>\n",
       "      <td>-0.021756</td>\n",
       "      <td>0.017017</td>\n",
       "      <td>0.090220</td>\n",
       "      <td>0.061956</td>\n",
       "      <td>0.014765</td>\n",
       "      <td>0.056525</td>\n",
       "      <td>0.083534</td>\n",
       "      <td>-0.279547</td>\n",
       "      <td>0.152606</td>\n",
       "      <td>-0.008882</td>\n",
       "    </tr>\n",
       "    <tr>\n",
       "      <th>Latitude</th>\n",
       "      <td>-0.636718</td>\n",
       "      <td>-0.617403</td>\n",
       "      <td>1.000000</td>\n",
       "      <td>0.324248</td>\n",
       "      <td>-0.573008</td>\n",
       "      <td>0.263546</td>\n",
       "      <td>-0.199676</td>\n",
       "      <td>-0.183018</td>\n",
       "      <td>-0.136522</td>\n",
       "      <td>0.548561</td>\n",
       "      <td>...</td>\n",
       "      <td>-0.006787</td>\n",
       "      <td>0.088892</td>\n",
       "      <td>-0.086713</td>\n",
       "      <td>-0.126133</td>\n",
       "      <td>-0.050507</td>\n",
       "      <td>-0.056971</td>\n",
       "      <td>-0.072861</td>\n",
       "      <td>0.311281</td>\n",
       "      <td>-0.254969</td>\n",
       "      <td>-0.036502</td>\n",
       "    </tr>\n",
       "    <tr>\n",
       "      <th>Longitude</th>\n",
       "      <td>0.091508</td>\n",
       "      <td>0.158269</td>\n",
       "      <td>0.324248</td>\n",
       "      <td>1.000000</td>\n",
       "      <td>0.406941</td>\n",
       "      <td>0.033417</td>\n",
       "      <td>-0.060946</td>\n",
       "      <td>0.152362</td>\n",
       "      <td>0.183256</td>\n",
       "      <td>0.000731</td>\n",
       "      <td>...</td>\n",
       "      <td>0.006199</td>\n",
       "      <td>0.011413</td>\n",
       "      <td>-0.010263</td>\n",
       "      <td>-0.100183</td>\n",
       "      <td>-0.025786</td>\n",
       "      <td>-0.001829</td>\n",
       "      <td>-0.022149</td>\n",
       "      <td>0.135933</td>\n",
       "      <td>-0.289509</td>\n",
       "      <td>-0.022316</td>\n",
       "    </tr>\n",
       "    <tr>\n",
       "      <th>Zip</th>\n",
       "      <td>0.742645</td>\n",
       "      <td>0.747416</td>\n",
       "      <td>-0.573008</td>\n",
       "      <td>0.406941</td>\n",
       "      <td>1.000000</td>\n",
       "      <td>-0.116817</td>\n",
       "      <td>0.062446</td>\n",
       "      <td>0.276521</td>\n",
       "      <td>0.183475</td>\n",
       "      <td>-0.353314</td>\n",
       "      <td>...</td>\n",
       "      <td>-0.002298</td>\n",
       "      <td>-0.017502</td>\n",
       "      <td>0.097025</td>\n",
       "      <td>0.032580</td>\n",
       "      <td>0.021633</td>\n",
       "      <td>0.070529</td>\n",
       "      <td>0.084121</td>\n",
       "      <td>-0.160820</td>\n",
       "      <td>-0.043322</td>\n",
       "      <td>0.003913</td>\n",
       "    </tr>\n",
       "    <tr>\n",
       "      <th>...</th>\n",
       "      <td>...</td>\n",
       "      <td>...</td>\n",
       "      <td>...</td>\n",
       "      <td>...</td>\n",
       "      <td>...</td>\n",
       "      <td>...</td>\n",
       "      <td>...</td>\n",
       "      <td>...</td>\n",
       "      <td>...</td>\n",
       "      <td>...</td>\n",
       "      <td>...</td>\n",
       "      <td>...</td>\n",
       "      <td>...</td>\n",
       "      <td>...</td>\n",
       "      <td>...</td>\n",
       "      <td>...</td>\n",
       "      <td>...</td>\n",
       "      <td>...</td>\n",
       "      <td>...</td>\n",
       "      <td>...</td>\n",
       "      <td>...</td>\n",
       "    </tr>\n",
       "    <tr>\n",
       "      <th>Grade 8 Math 4s - Limited English Proficient</th>\n",
       "      <td>0.051915</td>\n",
       "      <td>0.056525</td>\n",
       "      <td>-0.056971</td>\n",
       "      <td>-0.001829</td>\n",
       "      <td>0.070529</td>\n",
       "      <td>-0.012204</td>\n",
       "      <td>-0.129457</td>\n",
       "      <td>0.232159</td>\n",
       "      <td>-0.103816</td>\n",
       "      <td>-0.044085</td>\n",
       "      <td>...</td>\n",
       "      <td>0.031255</td>\n",
       "      <td>0.197723</td>\n",
       "      <td>0.579224</td>\n",
       "      <td>0.179937</td>\n",
       "      <td>-0.003390</td>\n",
       "      <td>1.000000</td>\n",
       "      <td>0.525537</td>\n",
       "      <td>-0.137987</td>\n",
       "      <td>-0.018129</td>\n",
       "      <td>0.050013</td>\n",
       "    </tr>\n",
       "    <tr>\n",
       "      <th>Grade 8 Math 4s - Economically Disadvantaged</th>\n",
       "      <td>0.065238</td>\n",
       "      <td>0.083534</td>\n",
       "      <td>-0.072861</td>\n",
       "      <td>-0.022149</td>\n",
       "      <td>0.084121</td>\n",
       "      <td>-0.065712</td>\n",
       "      <td>-0.208881</td>\n",
       "      <td>0.226289</td>\n",
       "      <td>-0.104096</td>\n",
       "      <td>-0.073881</td>\n",
       "      <td>...</td>\n",
       "      <td>0.275702</td>\n",
       "      <td>0.527814</td>\n",
       "      <td>0.908916</td>\n",
       "      <td>0.643758</td>\n",
       "      <td>0.137070</td>\n",
       "      <td>0.525537</td>\n",
       "      <td>1.000000</td>\n",
       "      <td>-0.156033</td>\n",
       "      <td>-0.019331</td>\n",
       "      <td>-0.004685</td>\n",
       "    </tr>\n",
       "    <tr>\n",
       "      <th>Black_Hispanic_Dominant</th>\n",
       "      <td>-0.296013</td>\n",
       "      <td>-0.279547</td>\n",
       "      <td>0.311281</td>\n",
       "      <td>0.135933</td>\n",
       "      <td>-0.160820</td>\n",
       "      <td>0.637601</td>\n",
       "      <td>-0.389548</td>\n",
       "      <td>-0.662289</td>\n",
       "      <td>0.579521</td>\n",
       "      <td>0.379391</td>\n",
       "      <td>...</td>\n",
       "      <td>0.062802</td>\n",
       "      <td>-0.032384</td>\n",
       "      <td>-0.193184</td>\n",
       "      <td>-0.185104</td>\n",
       "      <td>-0.037204</td>\n",
       "      <td>-0.137987</td>\n",
       "      <td>-0.156033</td>\n",
       "      <td>1.000000</td>\n",
       "      <td>-0.198989</td>\n",
       "      <td>-0.139921</td>\n",
       "    </tr>\n",
       "    <tr>\n",
       "      <th>White_Dominant</th>\n",
       "      <td>0.188063</td>\n",
       "      <td>0.152606</td>\n",
       "      <td>-0.254969</td>\n",
       "      <td>-0.289509</td>\n",
       "      <td>-0.043322</td>\n",
       "      <td>-0.284868</td>\n",
       "      <td>0.214903</td>\n",
       "      <td>-0.058641</td>\n",
       "      <td>-0.157514</td>\n",
       "      <td>-0.170580</td>\n",
       "      <td>...</td>\n",
       "      <td>-0.023086</td>\n",
       "      <td>-0.024482</td>\n",
       "      <td>-0.018600</td>\n",
       "      <td>0.058286</td>\n",
       "      <td>-0.004208</td>\n",
       "      <td>-0.018129</td>\n",
       "      <td>-0.019331</td>\n",
       "      <td>-0.198989</td>\n",
       "      <td>1.000000</td>\n",
       "      <td>-0.015827</td>\n",
       "    </tr>\n",
       "    <tr>\n",
       "      <th>Asian_Dominant</th>\n",
       "      <td>-0.006093</td>\n",
       "      <td>-0.008882</td>\n",
       "      <td>-0.036502</td>\n",
       "      <td>-0.022316</td>\n",
       "      <td>0.003913</td>\n",
       "      <td>0.020891</td>\n",
       "      <td>0.010532</td>\n",
       "      <td>0.441907</td>\n",
       "      <td>-0.110104</td>\n",
       "      <td>-0.128880</td>\n",
       "      <td>...</td>\n",
       "      <td>-0.016233</td>\n",
       "      <td>-0.024649</td>\n",
       "      <td>0.004238</td>\n",
       "      <td>-0.014893</td>\n",
       "      <td>-0.002959</td>\n",
       "      <td>0.050013</td>\n",
       "      <td>-0.004685</td>\n",
       "      <td>-0.139921</td>\n",
       "      <td>-0.015827</td>\n",
       "      <td>1.000000</td>\n",
       "    </tr>\n",
       "  </tbody>\n",
       "</table>\n",
       "<p>145 rows × 145 columns</p>\n",
       "</div>"
      ],
      "text/plain": [
       "                                              SED Code  District  Latitude  \\\n",
       "SED Code                                      1.000000  0.951737 -0.636718   \n",
       "District                                      0.951737  1.000000 -0.617403   \n",
       "Latitude                                     -0.636718 -0.617403  1.000000   \n",
       "Longitude                                     0.091508  0.158269  0.324248   \n",
       "Zip                                           0.742645  0.747416 -0.573008   \n",
       "...                                                ...       ...       ...   \n",
       "Grade 8 Math 4s - Limited English Proficient  0.051915  0.056525 -0.056971   \n",
       "Grade 8 Math 4s - Economically Disadvantaged  0.065238  0.083534 -0.072861   \n",
       "Black_Hispanic_Dominant                      -0.296013 -0.279547  0.311281   \n",
       "White_Dominant                                0.188063  0.152606 -0.254969   \n",
       "Asian_Dominant                               -0.006093 -0.008882 -0.036502   \n",
       "\n",
       "                                              Longitude       Zip  \\\n",
       "SED Code                                       0.091508  0.742645   \n",
       "District                                       0.158269  0.747416   \n",
       "Latitude                                       0.324248 -0.573008   \n",
       "Longitude                                      1.000000  0.406941   \n",
       "Zip                                            0.406941  1.000000   \n",
       "...                                                 ...       ...   \n",
       "Grade 8 Math 4s - Limited English Proficient  -0.001829  0.070529   \n",
       "Grade 8 Math 4s - Economically Disadvantaged  -0.022149  0.084121   \n",
       "Black_Hispanic_Dominant                        0.135933 -0.160820   \n",
       "White_Dominant                                -0.289509 -0.043322   \n",
       "Asian_Dominant                                -0.022316  0.003913   \n",
       "\n",
       "                                              Economic Need Index  \\\n",
       "SED Code                                                -0.243531   \n",
       "District                                                -0.213109   \n",
       "Latitude                                                 0.263546   \n",
       "Longitude                                                0.033417   \n",
       "Zip                                                     -0.116817   \n",
       "...                                                           ...   \n",
       "Grade 8 Math 4s - Limited English Proficient            -0.012204   \n",
       "Grade 8 Math 4s - Economically Disadvantaged            -0.065712   \n",
       "Black_Hispanic_Dominant                                  0.637601   \n",
       "White_Dominant                                          -0.284868   \n",
       "Asian_Dominant                                           0.020891   \n",
       "\n",
       "                                              School Income Estimate  \\\n",
       "SED Code                                                    0.174739   \n",
       "District                                                    0.154909   \n",
       "Latitude                                                   -0.199676   \n",
       "Longitude                                                  -0.060946   \n",
       "Zip                                                         0.062446   \n",
       "...                                                              ...   \n",
       "Grade 8 Math 4s - Limited English Proficient               -0.129457   \n",
       "Grade 8 Math 4s - Economically Disadvantaged               -0.208881   \n",
       "Black_Hispanic_Dominant                                    -0.389548   \n",
       "White_Dominant                                              0.214903   \n",
       "Asian_Dominant                                              0.010532   \n",
       "\n",
       "                                              Percent Asian  Percent Black  \\\n",
       "SED Code                                           0.285167      -0.004922   \n",
       "District                                           0.288328      -0.004982   \n",
       "Latitude                                          -0.183018      -0.136522   \n",
       "Longitude                                          0.152362       0.183256   \n",
       "Zip                                                0.276521       0.183475   \n",
       "...                                                     ...            ...   \n",
       "Grade 8 Math 4s - Limited English Proficient       0.232159      -0.103816   \n",
       "Grade 8 Math 4s - Economically Disadvantaged       0.226289      -0.104096   \n",
       "Black_Hispanic_Dominant                           -0.662289       0.579521   \n",
       "White_Dominant                                    -0.058641      -0.157514   \n",
       "Asian_Dominant                                     0.441907      -0.110104   \n",
       "\n",
       "                                              Percent Hispanic  ...  \\\n",
       "SED Code                                             -0.323094  ...   \n",
       "District                                             -0.297392  ...   \n",
       "Latitude                                              0.548561  ...   \n",
       "Longitude                                             0.000731  ...   \n",
       "Zip                                                  -0.353314  ...   \n",
       "...                                                        ...  ...   \n",
       "Grade 8 Math 4s - Limited English Proficient         -0.044085  ...   \n",
       "Grade 8 Math 4s - Economically Disadvantaged         -0.073881  ...   \n",
       "Black_Hispanic_Dominant                               0.379391  ...   \n",
       "White_Dominant                                       -0.170580  ...   \n",
       "Asian_Dominant                                       -0.128880  ...   \n",
       "\n",
       "                                              Grade 8 Math 4s - Black or African American  \\\n",
       "SED Code                                                                        -0.033175   \n",
       "District                                                                        -0.021756   \n",
       "Latitude                                                                        -0.006787   \n",
       "Longitude                                                                        0.006199   \n",
       "Zip                                                                             -0.002298   \n",
       "...                                                                                   ...   \n",
       "Grade 8 Math 4s - Limited English Proficient                                     0.031255   \n",
       "Grade 8 Math 4s - Economically Disadvantaged                                     0.275702   \n",
       "Black_Hispanic_Dominant                                                          0.062802   \n",
       "White_Dominant                                                                  -0.023086   \n",
       "Asian_Dominant                                                                  -0.016233   \n",
       "\n",
       "                                              Grade 8 Math 4s - Hispanic or Latino  \\\n",
       "SED Code                                                                 -0.009692   \n",
       "District                                                                  0.017017   \n",
       "Latitude                                                                  0.088892   \n",
       "Longitude                                                                 0.011413   \n",
       "Zip                                                                      -0.017502   \n",
       "...                                                                            ...   \n",
       "Grade 8 Math 4s - Limited English Proficient                              0.197723   \n",
       "Grade 8 Math 4s - Economically Disadvantaged                              0.527814   \n",
       "Black_Hispanic_Dominant                                                  -0.032384   \n",
       "White_Dominant                                                           -0.024482   \n",
       "Asian_Dominant                                                           -0.024649   \n",
       "\n",
       "                                              Grade 8 Math 4s - Asian or Pacific Islander  \\\n",
       "SED Code                                                                         0.082033   \n",
       "District                                                                         0.090220   \n",
       "Latitude                                                                        -0.086713   \n",
       "Longitude                                                                       -0.010263   \n",
       "Zip                                                                              0.097025   \n",
       "...                                                                                   ...   \n",
       "Grade 8 Math 4s - Limited English Proficient                                     0.579224   \n",
       "Grade 8 Math 4s - Economically Disadvantaged                                     0.908916   \n",
       "Black_Hispanic_Dominant                                                         -0.193184   \n",
       "White_Dominant                                                                  -0.018600   \n",
       "Asian_Dominant                                                                   0.004238   \n",
       "\n",
       "                                              Grade 8 Math 4s - White  \\\n",
       "SED Code                                                     0.055271   \n",
       "District                                                     0.061956   \n",
       "Latitude                                                    -0.126133   \n",
       "Longitude                                                   -0.100183   \n",
       "Zip                                                          0.032580   \n",
       "...                                                               ...   \n",
       "Grade 8 Math 4s - Limited English Proficient                 0.179937   \n",
       "Grade 8 Math 4s - Economically Disadvantaged                 0.643758   \n",
       "Black_Hispanic_Dominant                                     -0.185104   \n",
       "White_Dominant                                               0.058286   \n",
       "Asian_Dominant                                              -0.014893   \n",
       "\n",
       "                                              Grade 8 Math 4s - Multiracial  \\\n",
       "SED Code                                                           0.007877   \n",
       "District                                                           0.014765   \n",
       "Latitude                                                          -0.050507   \n",
       "Longitude                                                         -0.025786   \n",
       "Zip                                                                0.021633   \n",
       "...                                                                     ...   \n",
       "Grade 8 Math 4s - Limited English Proficient                      -0.003390   \n",
       "Grade 8 Math 4s - Economically Disadvantaged                       0.137070   \n",
       "Black_Hispanic_Dominant                                           -0.037204   \n",
       "White_Dominant                                                    -0.004208   \n",
       "Asian_Dominant                                                    -0.002959   \n",
       "\n",
       "                                              Grade 8 Math 4s - Limited English Proficient  \\\n",
       "SED Code                                                                          0.051915   \n",
       "District                                                                          0.056525   \n",
       "Latitude                                                                         -0.056971   \n",
       "Longitude                                                                        -0.001829   \n",
       "Zip                                                                               0.070529   \n",
       "...                                                                                    ...   \n",
       "Grade 8 Math 4s - Limited English Proficient                                      1.000000   \n",
       "Grade 8 Math 4s - Economically Disadvantaged                                      0.525537   \n",
       "Black_Hispanic_Dominant                                                          -0.137987   \n",
       "White_Dominant                                                                   -0.018129   \n",
       "Asian_Dominant                                                                    0.050013   \n",
       "\n",
       "                                              Grade 8 Math 4s - Economically Disadvantaged  \\\n",
       "SED Code                                                                          0.065238   \n",
       "District                                                                          0.083534   \n",
       "Latitude                                                                         -0.072861   \n",
       "Longitude                                                                        -0.022149   \n",
       "Zip                                                                               0.084121   \n",
       "...                                                                                    ...   \n",
       "Grade 8 Math 4s - Limited English Proficient                                      0.525537   \n",
       "Grade 8 Math 4s - Economically Disadvantaged                                      1.000000   \n",
       "Black_Hispanic_Dominant                                                          -0.156033   \n",
       "White_Dominant                                                                   -0.019331   \n",
       "Asian_Dominant                                                                   -0.004685   \n",
       "\n",
       "                                              Black_Hispanic_Dominant  \\\n",
       "SED Code                                                    -0.296013   \n",
       "District                                                    -0.279547   \n",
       "Latitude                                                     0.311281   \n",
       "Longitude                                                    0.135933   \n",
       "Zip                                                         -0.160820   \n",
       "...                                                               ...   \n",
       "Grade 8 Math 4s - Limited English Proficient                -0.137987   \n",
       "Grade 8 Math 4s - Economically Disadvantaged                -0.156033   \n",
       "Black_Hispanic_Dominant                                      1.000000   \n",
       "White_Dominant                                              -0.198989   \n",
       "Asian_Dominant                                              -0.139921   \n",
       "\n",
       "                                              White_Dominant  Asian_Dominant  \n",
       "SED Code                                            0.188063       -0.006093  \n",
       "District                                            0.152606       -0.008882  \n",
       "Latitude                                           -0.254969       -0.036502  \n",
       "Longitude                                          -0.289509       -0.022316  \n",
       "Zip                                                -0.043322        0.003913  \n",
       "...                                                      ...             ...  \n",
       "Grade 8 Math 4s - Limited English Proficient       -0.018129        0.050013  \n",
       "Grade 8 Math 4s - Economically Disadvantaged       -0.019331       -0.004685  \n",
       "Black_Hispanic_Dominant                            -0.198989       -0.139921  \n",
       "White_Dominant                                      1.000000       -0.015827  \n",
       "Asian_Dominant                                     -0.015827        1.000000  \n",
       "\n",
       "[145 rows x 145 columns]"
      ]
     },
     "execution_count": 142,
     "metadata": {},
     "output_type": "execute_result"
    }
   ],
   "source": [
    "mydata.corr()"
   ]
  },
  {
   "cell_type": "code",
   "execution_count": 143,
   "metadata": {},
   "outputs": [
    {
     "data": {
      "text/plain": [
       "array([[<matplotlib.axes._subplots.AxesSubplot object at 0x7f9407bcf250>]],\n",
       "      dtype=object)"
      ]
     },
     "execution_count": 143,
     "metadata": {},
     "output_type": "execute_result"
    },
    {
     "data": {
      "image/png": "[encoded data removed]",
      "text/plain": [
       "<Figure size 432x288 with 1 Axes>"
      ]
     },
     "metadata": {
      "needs_background": "light"
     },
     "output_type": "display_data"
    }
   ],
   "source": [
    "mydata.hist(column = \"Economic Need Index\")"
   ]
  },
  {
   "cell_type": "code",
   "execution_count": 144,
   "metadata": {
    "scrolled": true
   },
   "outputs": [
    {
     "data": {
      "text/plain": [
       "<matplotlib.axes._subplots.AxesSubplot at 0x7f9409a6b070>"
      ]
     },
     "execution_count": 144,
     "metadata": {},
     "output_type": "execute_result"
    },
    {
     "data": {
      "image/png": "[encoded data removed]",
      "text/plain": [
       "<Figure size 432x288 with 1 Axes>"
      ]
     },
     "metadata": {
      "needs_background": "light"
     },
     "output_type": "display_data"
    }
   ],
   "source": [
    "mydata.boxplot(column = \"Economic Need Index\")"
   ]
  },
  {
   "cell_type": "code",
   "execution_count": 145,
   "metadata": {},
   "outputs": [
    {
     "data": {
      "text/plain": [
       "0.6590676100628937"
      ]
     },
     "execution_count": 145,
     "metadata": {},
     "output_type": "execute_result"
    }
   ],
   "source": [
    "mydata[\"Economic Need Index\"].mean()"
   ]
  },
  {
   "cell_type": "code",
   "execution_count": 146,
   "metadata": {},
   "outputs": [
    {
     "data": {
      "text/plain": [
       "Average ELA Proficiency     2.344820\n",
       "Average Math Proficiency    2.450466\n",
       "dtype: float64"
      ]
     },
     "execution_count": 146,
     "metadata": {},
     "output_type": "execute_result"
    }
   ],
   "source": [
    "mydata[mydata[\"Economic Need Index\"] >= .66][['Average ELA Proficiency','Average Math Proficiency']].mean()"
   ]
  },
  {
   "cell_type": "code",
   "execution_count": 147,
   "metadata": {},
   "outputs": [
    {
     "data": {
      "text/plain": [
       "Average ELA Proficiency     2.839442\n",
       "Average Math Proficiency    3.021073\n",
       "dtype: float64"
      ]
     },
     "execution_count": 147,
     "metadata": {},
     "output_type": "execute_result"
    }
   ],
   "source": [
    "mydata[mydata[\"Economic Need Index\"] < .66][['Average ELA Proficiency','Average Math Proficiency']].mean()"
   ]
  },
  {
   "cell_type": "markdown",
   "metadata": {},
   "source": [
    "schools having higher economic need index have less average proficiency on both ELA and Math.\n",
    "So, the schools that have higher economic need index need PASSNYC's service."
   ]
  },
  {
   "cell_type": "code",
   "execution_count": 148,
   "metadata": {},
   "outputs": [
    {
     "data": {
      "text/plain": [
       "array([[<matplotlib.axes._subplots.AxesSubplot object at 0x7f9425c850d0>]],\n",
       "      dtype=object)"
      ]
     },
     "execution_count": 148,
     "metadata": {},
     "output_type": "execute_result"
    },
    {
     "data": {
      "image/png": "[encoded data removed]",
      "text/plain": [
       "<Figure size 432x288 with 1 Axes>"
      ]
     },
     "metadata": {
      "needs_background": "light"
     },
     "output_type": "display_data"
    }
   ],
   "source": [
    "mydata.hist(column = \"Average ELA Proficiency\")"
   ]
  },
  {
   "cell_type": "code",
   "execution_count": 149,
   "metadata": {},
   "outputs": [
    {
     "data": {
      "text/plain": [
       "<matplotlib.axes._subplots.AxesSubplot at 0x7f9407db6d00>"
      ]
     },
     "execution_count": 149,
     "metadata": {},
     "output_type": "execute_result"
    },
    {
     "data": {
      "image/png": "[encoded data removed]",
      "text/plain": [
       "<Figure size 432x288 with 1 Axes>"
      ]
     },
     "metadata": {
      "needs_background": "light"
     },
     "output_type": "display_data"
    }
   ],
   "source": [
    "mydata.boxplot(column = \"Average ELA Proficiency\")"
   ]
  },
  {
   "cell_type": "code",
   "execution_count": 150,
   "metadata": {},
   "outputs": [
    {
     "data": {
      "text/plain": [
       "array([[<matplotlib.axes._subplots.AxesSubplot object at 0x7f9407fae4c0>]],\n",
       "      dtype=object)"
      ]
     },
     "execution_count": 150,
     "metadata": {},
     "output_type": "execute_result"
    },
    {
     "data": {
      "image/png": "[encoded data removed]",
      "text/plain": [
       "<Figure size 432x288 with 1 Axes>"
      ]
     },
     "metadata": {
      "needs_background": "light"
     },
     "output_type": "display_data"
    }
   ],
   "source": [
    "mydata.hist(column = \"Average Math Proficiency\")"
   ]
  },
  {
   "cell_type": "code",
   "execution_count": 151,
   "metadata": {},
   "outputs": [
    {
     "data": {
      "text/plain": [
       "<matplotlib.axes._subplots.AxesSubplot at 0x7f940807feb0>"
      ]
     },
     "execution_count": 151,
     "metadata": {},
     "output_type": "execute_result"
    },
    {
     "data": {
      "image/png": "[encoded data removed]",
      "text/plain": [
       "<Figure size 432x288 with 1 Axes>"
      ]
     },
     "metadata": {
      "needs_background": "light"
     },
     "output_type": "display_data"
    }
   ],
   "source": [
    "mydata.boxplot(column = \"Average Math Proficiency\")"
   ]
  },
  {
   "cell_type": "markdown",
   "metadata": {},
   "source": [
    "In conclusion, Black and Hispanic dominant schools, especially having higher economic need index, need more PASSNYC's service."
   ]
  }
 ],
 "metadata": {
  "kernelspec": {
   "display_name": "Python 3",
   "language": "python",
   "name": "python3"
  },
  "language_info": {
   "codemirror_mode": {
    "name": "ipython",
    "version": 3
   },
   "file_extension": ".py",
   "mimetype": "text/x-python",
   "name": "python",
   "nbconvert_exporter": "python",
   "pygments_lexer": "ipython3",
   "version": "3.8.3"
  }
 },
 "nbformat": 4,
 "nbformat_minor": 4
}
